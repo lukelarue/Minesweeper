{
 "cells": [
  {
   "cell_type": "code",
   "execution_count": 2,
   "metadata": {},
   "outputs": [],
   "source": [
    "import gymnasium as gym"
   ]
  },
  {
   "cell_type": "code",
   "execution_count": 15,
   "metadata": {},
   "outputs": [],
   "source": [
    "env = gym.make('CartPole-v1', render_mode = 'human')"
   ]
  },
  {
   "cell_type": "code",
   "execution_count": 34,
   "metadata": {},
   "outputs": [],
   "source": [
    "env1 = env.unwrapped"
   ]
  },
  {
   "cell_type": "code",
   "execution_count": 36,
   "metadata": {},
   "outputs": [
    {
     "name": "stdout",
     "output_type": "stream",
     "text": [
      "\u001b[1;31mType:\u001b[0m        CartPoleEnv\n",
      "\u001b[1;31mString form:\u001b[0m <CartPoleEnv<CartPole-v1>>\n",
      "\u001b[1;31mFile:\u001b[0m        c:\\users\\larve\\github\\minesweeper\\venv\\lib\\site-packages\\gymnasium\\envs\\classic_control\\cartpole.py\n",
      "\u001b[1;31mDocstring:\u001b[0m  \n",
      "## Description\n",
      "\n",
      "This environment corresponds to the version of the cart-pole problem described by Barto, Sutton, and Anderson in\n",
      "[\"Neuronlike Adaptive Elements That Can Solve Difficult Learning Control Problem\"](https://ieeexplore.ieee.org/document/6313077).\n",
      "A pole is attached by an un-actuated joint to a cart, which moves along a frictionless track.\n",
      "The pendulum is placed upright on the cart and the goal is to balance the pole by applying forces\n",
      " in the left and right direction on the cart.\n",
      "\n",
      "## Action Space\n",
      "\n",
      "The action is a `ndarray` with shape `(1,)` which can take values `{0, 1}` indicating the direction\n",
      " of the fixed force the cart is pushed with.\n",
      "\n",
      "- 0: Push cart to the left\n",
      "- 1: Push cart to the right\n",
      "\n",
      "**Note**: The velocity that is reduced or increased by the applied force is not fixed and it depends on the angle\n",
      " the pole is pointing. The center of gravity of the pole varies the amount of energy needed to move the cart underneath it\n",
      "\n",
      "## Observation Space\n",
      "\n",
      "The observation is a `ndarray` with shape `(4,)` with the values corresponding to the following positions and velocities:\n",
      "\n",
      "| Num | Observation           | Min                 | Max               |\n",
      "|-----|-----------------------|---------------------|-------------------|\n",
      "| 0   | Cart Position         | -4.8                | 4.8               |\n",
      "| 1   | Cart Velocity         | -Inf                | Inf               |\n",
      "| 2   | Pole Angle            | ~ -0.418 rad (-24°) | ~ 0.418 rad (24°) |\n",
      "| 3   | Pole Angular Velocity | -Inf                | Inf               |\n",
      "\n",
      "**Note:** While the ranges above denote the possible values for observation space of each element,\n",
      "    it is not reflective of the allowed values of the state space in an unterminated episode. Particularly:\n",
      "-  The cart x-position (index 0) can be take values between `(-4.8, 4.8)`, but the episode terminates\n",
      "   if the cart leaves the `(-2.4, 2.4)` range.\n",
      "-  The pole angle can be observed between  `(-.418, .418)` radians (or **±24°**), but the episode terminates\n",
      "   if the pole angle is not in the range `(-.2095, .2095)` (or **±12°**)\n",
      "\n",
      "## Rewards\n",
      "\n",
      "Since the goal is to keep the pole upright for as long as possible, a reward of `+1` for every step taken,\n",
      "including the termination step, is allotted. The threshold for rewards is 475 for v1.\n",
      "\n",
      "## Starting State\n",
      "\n",
      "All observations are assigned a uniformly random value in `(-0.05, 0.05)`\n",
      "\n",
      "## Episode End\n",
      "\n",
      "The episode ends if any one of the following occurs:\n",
      "\n",
      "1. Termination: Pole Angle is greater than ±12°\n",
      "2. Termination: Cart Position is greater than ±2.4 (center of the cart reaches the edge of the display)\n",
      "3. Truncation: Episode length is greater than 500 (200 for v0)\n",
      "\n",
      "## Arguments\n",
      "\n",
      "```python\n",
      "import gymnasium as gym\n",
      "gym.make('CartPole-v1')\n",
      "```\n",
      "\n",
      "On reset, the `options` parameter allows the user to change the bounds used to determine\n",
      "the new random state."
     ]
    }
   ],
   "source": [
    "env1?"
   ]
  },
  {
   "cell_type": "code",
   "execution_count": null,
   "metadata": {},
   "outputs": [],
   "source": []
  },
  {
   "cell_type": "code",
   "execution_count": 16,
   "metadata": {},
   "outputs": [
    {
     "ename": "DependencyNotInstalled",
     "evalue": "pygame is not installed, run `pip install gymnasium[classic-control]`",
     "output_type": "error",
     "traceback": [
      "\u001b[1;31m---------------------------------------------------------------------------\u001b[0m",
      "\u001b[1;31mModuleNotFoundError\u001b[0m                       Traceback (most recent call last)",
      "File \u001b[1;32mc:\\Users\\larve\\GitHub\\Minesweeper\\venv\\Lib\\site-packages\\gymnasium\\envs\\classic_control\\cartpole.py:223\u001b[0m, in \u001b[0;36mCartPoleEnv.render\u001b[1;34m(self)\u001b[0m\n\u001b[0;32m    222\u001b[0m \u001b[39mtry\u001b[39;00m:\n\u001b[1;32m--> 223\u001b[0m     \u001b[39mimport\u001b[39;00m \u001b[39mpygame\u001b[39;00m\n\u001b[0;32m    224\u001b[0m     \u001b[39mfrom\u001b[39;00m \u001b[39mpygame\u001b[39;00m \u001b[39mimport\u001b[39;00m gfxdraw\n",
      "\u001b[1;31mModuleNotFoundError\u001b[0m: No module named 'pygame'",
      "\nThe above exception was the direct cause of the following exception:\n",
      "\u001b[1;31mDependencyNotInstalled\u001b[0m                    Traceback (most recent call last)",
      "Cell \u001b[1;32mIn[16], line 1\u001b[0m\n\u001b[1;32m----> 1\u001b[0m obs, info \u001b[39m=\u001b[39m env\u001b[39m.\u001b[39;49mreset()\n\u001b[0;32m      3\u001b[0m \u001b[39mfor\u001b[39;00m _ \u001b[39min\u001b[39;00m \u001b[39mrange\u001b[39m(\u001b[39m1000\u001b[39m):\n\u001b[0;32m      4\u001b[0m     action \u001b[39m=\u001b[39m env\u001b[39m.\u001b[39maction_space\u001b[39m.\u001b[39msample()\n",
      "File \u001b[1;32mc:\\Users\\larve\\GitHub\\Minesweeper\\venv\\Lib\\site-packages\\gymnasium\\wrappers\\time_limit.py:75\u001b[0m, in \u001b[0;36mTimeLimit.reset\u001b[1;34m(self, **kwargs)\u001b[0m\n\u001b[0;32m     66\u001b[0m \u001b[39m\u001b[39m\u001b[39m\"\"\"Resets the environment with :param:`**kwargs` and sets the number of steps elapsed to zero.\u001b[39;00m\n\u001b[0;32m     67\u001b[0m \n\u001b[0;32m     68\u001b[0m \u001b[39mArgs:\u001b[39;00m\n\u001b[1;32m   (...)\u001b[0m\n\u001b[0;32m     72\u001b[0m \u001b[39m    The reset environment\u001b[39;00m\n\u001b[0;32m     73\u001b[0m \u001b[39m\"\"\"\u001b[39;00m\n\u001b[0;32m     74\u001b[0m \u001b[39mself\u001b[39m\u001b[39m.\u001b[39m_elapsed_steps \u001b[39m=\u001b[39m \u001b[39m0\u001b[39m\n\u001b[1;32m---> 75\u001b[0m \u001b[39mreturn\u001b[39;00m \u001b[39mself\u001b[39;49m\u001b[39m.\u001b[39;49menv\u001b[39m.\u001b[39;49mreset(\u001b[39m*\u001b[39;49m\u001b[39m*\u001b[39;49mkwargs)\n",
      "File \u001b[1;32mc:\\Users\\larve\\GitHub\\Minesweeper\\venv\\Lib\\site-packages\\gymnasium\\wrappers\\order_enforcing.py:61\u001b[0m, in \u001b[0;36mOrderEnforcing.reset\u001b[1;34m(self, **kwargs)\u001b[0m\n\u001b[0;32m     59\u001b[0m \u001b[39m\u001b[39m\u001b[39m\"\"\"Resets the environment with `kwargs`.\"\"\"\u001b[39;00m\n\u001b[0;32m     60\u001b[0m \u001b[39mself\u001b[39m\u001b[39m.\u001b[39m_has_reset \u001b[39m=\u001b[39m \u001b[39mTrue\u001b[39;00m\n\u001b[1;32m---> 61\u001b[0m \u001b[39mreturn\u001b[39;00m \u001b[39mself\u001b[39;49m\u001b[39m.\u001b[39;49menv\u001b[39m.\u001b[39;49mreset(\u001b[39m*\u001b[39;49m\u001b[39m*\u001b[39;49mkwargs)\n",
      "File \u001b[1;32mc:\\Users\\larve\\GitHub\\Minesweeper\\venv\\Lib\\site-packages\\gymnasium\\wrappers\\env_checker.py:55\u001b[0m, in \u001b[0;36mPassiveEnvChecker.reset\u001b[1;34m(self, **kwargs)\u001b[0m\n\u001b[0;32m     53\u001b[0m \u001b[39mif\u001b[39;00m \u001b[39mself\u001b[39m\u001b[39m.\u001b[39mchecked_reset \u001b[39mis\u001b[39;00m \u001b[39mFalse\u001b[39;00m:\n\u001b[0;32m     54\u001b[0m     \u001b[39mself\u001b[39m\u001b[39m.\u001b[39mchecked_reset \u001b[39m=\u001b[39m \u001b[39mTrue\u001b[39;00m\n\u001b[1;32m---> 55\u001b[0m     \u001b[39mreturn\u001b[39;00m env_reset_passive_checker(\u001b[39mself\u001b[39;49m\u001b[39m.\u001b[39;49menv, \u001b[39m*\u001b[39;49m\u001b[39m*\u001b[39;49mkwargs)\n\u001b[0;32m     56\u001b[0m \u001b[39melse\u001b[39;00m:\n\u001b[0;32m     57\u001b[0m     \u001b[39mreturn\u001b[39;00m \u001b[39mself\u001b[39m\u001b[39m.\u001b[39menv\u001b[39m.\u001b[39mreset(\u001b[39m*\u001b[39m\u001b[39m*\u001b[39mkwargs)\n",
      "File \u001b[1;32mc:\\Users\\larve\\GitHub\\Minesweeper\\venv\\Lib\\site-packages\\gymnasium\\utils\\passive_env_checker.py:215\u001b[0m, in \u001b[0;36menv_reset_passive_checker\u001b[1;34m(env, **kwargs)\u001b[0m\n\u001b[0;32m    210\u001b[0m     logger\u001b[39m.\u001b[39mdeprecation(\n\u001b[0;32m    211\u001b[0m         \u001b[39m\"\u001b[39m\u001b[39mCurrent gymnasium version requires that `Env.reset` can be passed `options` to allow the environment initialisation to be passed additional information.\u001b[39m\u001b[39m\"\u001b[39m\n\u001b[0;32m    212\u001b[0m     )\n\u001b[0;32m    214\u001b[0m \u001b[39m# Checks the result of env.reset with kwargs\u001b[39;00m\n\u001b[1;32m--> 215\u001b[0m result \u001b[39m=\u001b[39m env\u001b[39m.\u001b[39;49mreset(\u001b[39m*\u001b[39;49m\u001b[39m*\u001b[39;49mkwargs)\n\u001b[0;32m    217\u001b[0m \u001b[39mif\u001b[39;00m \u001b[39mnot\u001b[39;00m \u001b[39misinstance\u001b[39m(result, \u001b[39mtuple\u001b[39m):\n\u001b[0;32m    218\u001b[0m     logger\u001b[39m.\u001b[39mwarn(\n\u001b[0;32m    219\u001b[0m         \u001b[39mf\u001b[39m\u001b[39m\"\u001b[39m\u001b[39mThe result returned by `env.reset()` was not a tuple of the form `(obs, info)`, where `obs` is a observation and `info` is a dictionary containing additional information. Actual type: `\u001b[39m\u001b[39m{\u001b[39;00m\u001b[39mtype\u001b[39m(result)\u001b[39m}\u001b[39;00m\u001b[39m`\u001b[39m\u001b[39m\"\u001b[39m\n\u001b[0;32m    220\u001b[0m     )\n",
      "File \u001b[1;32mc:\\Users\\larve\\GitHub\\Minesweeper\\venv\\Lib\\site-packages\\gymnasium\\envs\\classic_control\\cartpole.py:209\u001b[0m, in \u001b[0;36mCartPoleEnv.reset\u001b[1;34m(self, seed, options)\u001b[0m\n\u001b[0;32m    206\u001b[0m \u001b[39mself\u001b[39m\u001b[39m.\u001b[39msteps_beyond_terminated \u001b[39m=\u001b[39m \u001b[39mNone\u001b[39;00m\n\u001b[0;32m    208\u001b[0m \u001b[39mif\u001b[39;00m \u001b[39mself\u001b[39m\u001b[39m.\u001b[39mrender_mode \u001b[39m==\u001b[39m \u001b[39m\"\u001b[39m\u001b[39mhuman\u001b[39m\u001b[39m\"\u001b[39m:\n\u001b[1;32m--> 209\u001b[0m     \u001b[39mself\u001b[39;49m\u001b[39m.\u001b[39;49mrender()\n\u001b[0;32m    210\u001b[0m \u001b[39mreturn\u001b[39;00m np\u001b[39m.\u001b[39marray(\u001b[39mself\u001b[39m\u001b[39m.\u001b[39mstate, dtype\u001b[39m=\u001b[39mnp\u001b[39m.\u001b[39mfloat32), {}\n",
      "File \u001b[1;32mc:\\Users\\larve\\GitHub\\Minesweeper\\venv\\Lib\\site-packages\\gymnasium\\envs\\classic_control\\cartpole.py:226\u001b[0m, in \u001b[0;36mCartPoleEnv.render\u001b[1;34m(self)\u001b[0m\n\u001b[0;32m    224\u001b[0m     \u001b[39mfrom\u001b[39;00m \u001b[39mpygame\u001b[39;00m \u001b[39mimport\u001b[39;00m gfxdraw\n\u001b[0;32m    225\u001b[0m \u001b[39mexcept\u001b[39;00m \u001b[39mImportError\u001b[39;00m \u001b[39mas\u001b[39;00m e:\n\u001b[1;32m--> 226\u001b[0m     \u001b[39mraise\u001b[39;00m DependencyNotInstalled(\n\u001b[0;32m    227\u001b[0m         \u001b[39m\"\u001b[39m\u001b[39mpygame is not installed, run `pip install gymnasium[classic-control]`\u001b[39m\u001b[39m\"\u001b[39m\n\u001b[0;32m    228\u001b[0m     ) \u001b[39mfrom\u001b[39;00m \u001b[39me\u001b[39;00m\n\u001b[0;32m    230\u001b[0m \u001b[39mif\u001b[39;00m \u001b[39mself\u001b[39m\u001b[39m.\u001b[39mscreen \u001b[39mis\u001b[39;00m \u001b[39mNone\u001b[39;00m:\n\u001b[0;32m    231\u001b[0m     pygame\u001b[39m.\u001b[39minit()\n",
      "\u001b[1;31mDependencyNotInstalled\u001b[0m: pygame is not installed, run `pip install gymnasium[classic-control]`"
     ]
    }
   ],
   "source": [
    "obs, info = env.reset()\n",
    "\n",
    "for _ in range(1000):\n",
    "    action = env.action_space.sample()\n",
    "    obs, rewards, terminated, truncated, info = env.step(action)\n",
    "\n",
    "    if terminated or truncated:\n",
    "        obs, info = env.reset()\n",
    "\n",
    "env.close()"
   ]
  },
  {
   "cell_type": "code",
   "execution_count": 18,
   "metadata": {},
   "outputs": [
    {
     "name": "stdout",
     "output_type": "stream",
     "text": [
      "\u001b[1;31mInit signature:\u001b[0m\n",
      "\u001b[0mgym\u001b[0m\u001b[1;33m.\u001b[0m\u001b[0mspaces\u001b[0m\u001b[1;33m.\u001b[0m\u001b[0mMultiBinary\u001b[0m\u001b[1;33m(\u001b[0m\u001b[1;33m\n",
      "\u001b[0m    \u001b[0mn\u001b[0m\u001b[1;33m:\u001b[0m \u001b[1;34m'NDArray[np.integer[Any]] | Sequence[int] | int'\u001b[0m\u001b[1;33m,\u001b[0m\u001b[1;33m\n",
      "\u001b[0m    \u001b[0mseed\u001b[0m\u001b[1;33m:\u001b[0m \u001b[1;34m'int | np.random.Generator | None'\u001b[0m \u001b[1;33m=\u001b[0m \u001b[1;32mNone\u001b[0m\u001b[1;33m,\u001b[0m\u001b[1;33m\n",
      "\u001b[0m\u001b[1;33m)\u001b[0m\u001b[1;33m\u001b[0m\u001b[1;33m\u001b[0m\u001b[0m\n",
      "\u001b[1;31mDocstring:\u001b[0m     \n",
      "An n-shape binary space.\n",
      "\n",
      "Elements of this space are binary arrays of a shape that is fixed during construction.\n",
      "\n",
      "Example:\n",
      "    >>> from gymnasium.spaces import MultiBinary\n",
      "    >>> observation_space = MultiBinary(5, seed=42)\n",
      "    >>> observation_space.sample()\n",
      "    array([1, 0, 1, 0, 1], dtype=int8)\n",
      "    >>> observation_space = MultiBinary([3, 2], seed=42)\n",
      "    >>> observation_space.sample()\n",
      "    array([[1, 0],\n",
      "           [1, 0],\n",
      "           [1, 1]], dtype=int8)\n",
      "\u001b[1;31mInit docstring:\u001b[0m\n",
      "Constructor of :class:`MultiBinary` space.\n",
      "\n",
      "Args:\n",
      "    n: This will fix the shape of elements of the space. It can either be an integer (if the space is flat)\n",
      "        or some sort of sequence (tuple, list or np.ndarray) if there are multiple axes.\n",
      "    seed: Optionally, you can use this argument to seed the RNG that is used to sample from the space.\n",
      "\u001b[1;31mFile:\u001b[0m           c:\\users\\larve\\github\\minesweeper\\venv\\lib\\site-packages\\gymnasium\\spaces\\multi_binary.py\n",
      "\u001b[1;31mType:\u001b[0m           type\n",
      "\u001b[1;31mSubclasses:\u001b[0m     "
     ]
    }
   ],
   "source": [
    "gym.spaces.MultiBinary?"
   ]
  },
  {
   "cell_type": "code",
   "execution_count": 25,
   "metadata": {},
   "outputs": [
    {
     "data": {
      "text/plain": [
       "(10, 100)"
      ]
     },
     "execution_count": 25,
     "metadata": {},
     "output_type": "execute_result"
    }
   ],
   "source": [
    "from gymnasium.spaces import MultiBinary\n",
    "obs_space = MultiBinary([10, 100])\n",
    "obs_space.shape"
   ]
  },
  {
   "cell_type": "code",
   "execution_count": 28,
   "metadata": {},
   "outputs": [
    {
     "data": {
      "text/plain": [
       "['__annotations__',\n",
       " '__class__',\n",
       " '__class_getitem__',\n",
       " '__contains__',\n",
       " '__delattr__',\n",
       " '__dict__',\n",
       " '__dir__',\n",
       " '__doc__',\n",
       " '__eq__',\n",
       " '__format__',\n",
       " '__ge__',\n",
       " '__getattribute__',\n",
       " '__getstate__',\n",
       " '__gt__',\n",
       " '__hash__',\n",
       " '__init__',\n",
       " '__init_subclass__',\n",
       " '__le__',\n",
       " '__lt__',\n",
       " '__module__',\n",
       " '__ne__',\n",
       " '__new__',\n",
       " '__orig_bases__',\n",
       " '__parameters__',\n",
       " '__reduce__',\n",
       " '__reduce_ex__',\n",
       " '__repr__',\n",
       " '__setattr__',\n",
       " '__setstate__',\n",
       " '__sizeof__',\n",
       " '__slots__',\n",
       " '__str__',\n",
       " '__subclasshook__',\n",
       " '__weakref__',\n",
       " '_is_protocol',\n",
       " '_np_random',\n",
       " '_shape',\n",
       " 'contains',\n",
       " 'dtype',\n",
       " 'from_jsonable',\n",
       " 'is_np_flattenable',\n",
       " 'n',\n",
       " 'np_random',\n",
       " 'sample',\n",
       " 'seed',\n",
       " 'shape',\n",
       " 'to_jsonable']"
      ]
     },
     "execution_count": 28,
     "metadata": {},
     "output_type": "execute_result"
    }
   ],
   "source": [
    "dir(obs_space)"
   ]
  },
  {
   "cell_type": "code",
   "execution_count": 37,
   "metadata": {},
   "outputs": [
    {
     "name": "stdout",
     "output_type": "stream",
     "text": [
      "\u001b[1;31mInit signature:\u001b[0m \u001b[0mnp\u001b[0m\u001b[1;33m.\u001b[0m\u001b[0mfinfo\u001b[0m\u001b[1;33m(\u001b[0m\u001b[0mdtype\u001b[0m\u001b[1;33m)\u001b[0m\u001b[1;33m\u001b[0m\u001b[1;33m\u001b[0m\u001b[0m\n",
      "\u001b[1;31mDocstring:\u001b[0m     \n",
      "finfo(dtype)\n",
      "\n",
      "Machine limits for floating point types.\n",
      "\n",
      "Attributes\n",
      "----------\n",
      "bits : int\n",
      "    The number of bits occupied by the type.\n",
      "dtype : dtype\n",
      "    Returns the dtype for which `finfo` returns information. For complex\n",
      "    input, the returned dtype is the associated ``float*`` dtype for its\n",
      "    real and complex components.\n",
      "eps : float\n",
      "    The difference between 1.0 and the next smallest representable float\n",
      "    larger than 1.0. For example, for 64-bit binary floats in the IEEE-754\n",
      "    standard, ``eps = 2**-52``, approximately 2.22e-16.\n",
      "epsneg : float\n",
      "    The difference between 1.0 and the next smallest representable float\n",
      "    less than 1.0. For example, for 64-bit binary floats in the IEEE-754\n",
      "    standard, ``epsneg = 2**-53``, approximately 1.11e-16.\n",
      "iexp : int\n",
      "    The number of bits in the exponent portion of the floating point\n",
      "    representation.\n",
      "machar : MachAr\n",
      "    The object which calculated these parameters and holds more\n",
      "    detailed information.\n",
      "\n",
      "    .. deprecated:: 1.22\n",
      "machep : int\n",
      "    The exponent that yields `eps`.\n",
      "max : floating point number of the appropriate type\n",
      "    The largest representable number.\n",
      "maxexp : int\n",
      "    The smallest positive power of the base (2) that causes overflow.\n",
      "min : floating point number of the appropriate type\n",
      "    The smallest representable number, typically ``-max``.\n",
      "minexp : int\n",
      "    The most negative power of the base (2) consistent with there\n",
      "    being no leading 0's in the mantissa.\n",
      "negep : int\n",
      "    The exponent that yields `epsneg`.\n",
      "nexp : int\n",
      "    The number of bits in the exponent including its sign and bias.\n",
      "nmant : int\n",
      "    The number of bits in the mantissa.\n",
      "precision : int\n",
      "    The approximate number of decimal digits to which this kind of\n",
      "    float is precise.\n",
      "resolution : floating point number of the appropriate type\n",
      "    The approximate decimal resolution of this type, i.e.,\n",
      "    ``10**-precision``.\n",
      "tiny : float\n",
      "    An alias for `smallest_normal`, kept for backwards compatibility.\n",
      "smallest_normal : float\n",
      "    The smallest positive floating point number with 1 as leading bit in\n",
      "    the mantissa following IEEE-754 (see Notes).\n",
      "smallest_subnormal : float\n",
      "    The smallest positive floating point number with 0 as leading bit in\n",
      "    the mantissa following IEEE-754.\n",
      "\n",
      "Parameters\n",
      "----------\n",
      "dtype : float, dtype, or instance\n",
      "    Kind of floating point or complex floating point\n",
      "    data-type about which to get information.\n",
      "\n",
      "See Also\n",
      "--------\n",
      "MachAr : The implementation of the tests that produce this information.\n",
      "iinfo : The equivalent for integer data types.\n",
      "spacing : The distance between a value and the nearest adjacent number\n",
      "nextafter : The next floating point value after x1 towards x2\n",
      "\n",
      "Notes\n",
      "-----\n",
      "For developers of NumPy: do not instantiate this at the module level.\n",
      "The initial calculation of these parameters is expensive and negatively\n",
      "impacts import times.  These objects are cached, so calling ``finfo()``\n",
      "repeatedly inside your functions is not a problem.\n",
      "\n",
      "Note that ``smallest_normal`` is not actually the smallest positive\n",
      "representable value in a NumPy floating point type. As in the IEEE-754\n",
      "standard [1]_, NumPy floating point types make use of subnormal numbers to\n",
      "fill the gap between 0 and ``smallest_normal``. However, subnormal numbers\n",
      "may have significantly reduced precision [2]_.\n",
      "\n",
      "This function can also be used for complex data types as well. If used,\n",
      "the output will be the same as the corresponding real float type\n",
      "(e.g. numpy.finfo(numpy.csingle) is the same as numpy.finfo(numpy.single)).\n",
      "However, the output is true for the real and imaginary components.\n",
      "\n",
      "References\n",
      "----------\n",
      ".. [1] IEEE Standard for Floating-Point Arithmetic, IEEE Std 754-2008,\n",
      "       pp.1-70, 2008, http://www.doi.org/10.1109/IEEESTD.2008.4610935\n",
      ".. [2] Wikipedia, \"Denormal Numbers\",\n",
      "       https://en.wikipedia.org/wiki/Denormal_number\n",
      "\n",
      "Examples\n",
      "--------\n",
      ">>> np.finfo(np.float64).dtype\n",
      "dtype('float64')\n",
      ">>> np.finfo(np.complex64).dtype\n",
      "dtype('float32')\n",
      "\u001b[1;31mFile:\u001b[0m           c:\\users\\larve\\github\\minesweeper\\venv\\lib\\site-packages\\numpy\\__init__.py\n",
      "\u001b[1;31mType:\u001b[0m           type\n",
      "\u001b[1;31mSubclasses:\u001b[0m     "
     ]
    }
   ],
   "source": [
    "import numpy as np\n",
    "np.finfo?"
   ]
  },
  {
   "cell_type": "code",
   "execution_count": null,
   "metadata": {},
   "outputs": [],
   "source": []
  }
 ],
 "metadata": {
  "kernelspec": {
   "display_name": "venv",
   "language": "python",
   "name": "python3"
  },
  "language_info": {
   "codemirror_mode": {
    "name": "ipython",
    "version": 3
   },
   "file_extension": ".py",
   "mimetype": "text/x-python",
   "name": "python",
   "nbconvert_exporter": "python",
   "pygments_lexer": "ipython3",
   "version": "3.11.1"
  },
  "orig_nbformat": 4
 },
 "nbformat": 4,
 "nbformat_minor": 2
}
