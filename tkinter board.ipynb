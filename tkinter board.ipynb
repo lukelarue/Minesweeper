{
 "cells": [
  {
   "cell_type": "code",
   "execution_count": null,
   "metadata": {},
   "outputs": [],
   "source": [
    "%gui tk"
   ]
  },
  {
   "cell_type": "code",
   "execution_count": 3,
   "metadata": {},
   "outputs": [],
   "source": [
    "from tkinter import *\n",
    "\n",
    "window = Tk()\n",
    "window.title('Minesweeper')\n",
    "length = 10\n",
    "\n",
    "def kill_self():\n",
    "    buttons[54].destroy()\n",
    "\n",
    "    \n",
    "buttons = [SuicideButton(window, x) for x in range(length**2)]\n",
    "    \n",
    "    \n",
    "    \n",
    "\n",
    "\n",
    "for x in range(length):\n",
    "    for y in range(length):\n",
    "        idx = y * length + x\n",
    "        buttons[idx].button.grid(row = x, column = y)\n",
    "\n",
    "\n",
    "        \n",
    "    \n",
    "    \n",
    "    \n",
    "\n",
    "window.mainloop()"
   ]
  },
  {
   "cell_type": "code",
   "execution_count": null,
   "metadata": {},
   "outputs": [],
   "source": [
    "class Spot:\n",
    "    def __init__(self, value, position):\n",
    "        '''\n",
    "        value is 0-8 for surrounding mines, -9 for mine\n",
    "        '''\n",
    "    \n",
    "        "
   ]
  },
  {
   "cell_type": "code",
   "execution_count": null,
   "metadata": {},
   "outputs": [],
   "source": [
    "class SuicideButton:\n",
    "    def __init__(self, window, x):\n",
    "        self.idx = x\n",
    "        self.button = Button(window, text = 'mine', command = lambda: self.button.destroy())\n",
    "        \n",
    "        \n",
    "        "
   ]
  },
  {
   "cell_type": "code",
   "execution_count": null,
   "metadata": {},
   "outputs": [],
   "source": [
    "base = Tk()\n",
    "\n",
    "#This button can close the window\n",
    "button_1 = Button(base, text =\"I close the Window\", command = base.destroy)\n",
    "#Exteral paddign for the buttons\n",
    "button_1.pack(pady = 40)\n",
    "\n",
    "#This button closes the first button\n",
    "button_2 = Button(base, text =\"I close the first button\", command = button_1.destroy)\n",
    "button_2.pack(pady = 40)\n",
    "\n",
    "#This button closes the second button\n",
    "button_3 = Button(base, text =\"I close the second button\", command = button_2.destroy)\n",
    "button_3.pack(pady = 40)\n",
    "mainloop()"
   ]
  },
  {
   "cell_type": "code",
   "execution_count": null,
   "metadata": {},
   "outputs": [],
   "source": []
  }
 ],
 "metadata": {
  "kernelspec": {
   "display_name": "Python 3",
   "language": "python",
   "name": "python3"
  },
  "language_info": {
   "codemirror_mode": {
    "name": "ipython",
    "version": 3
   },
   "file_extension": ".py",
   "mimetype": "text/x-python",
   "name": "python",
   "nbconvert_exporter": "python",
   "pygments_lexer": "ipython3",
   "version": "3.8.5"
  }
 },
 "nbformat": 4,
 "nbformat_minor": 4
}
