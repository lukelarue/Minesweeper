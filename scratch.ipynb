{
 "cells": [
  {
   "cell_type": "code",
   "execution_count": 8,
   "metadata": {},
   "outputs": [],
   "source": [
    "from minesweeper import Game"
   ]
  },
  {
   "cell_type": "code",
   "execution_count": 9,
   "metadata": {},
   "outputs": [],
   "source": [
    "game = Game(16, 40)\n",
    "result = game.step(75) # Start the game roughly in the middle of the board\n"
   ]
  },
  {
   "attachments": {},
   "cell_type": "markdown",
   "metadata": {},
   "source": []
  },
  {
   "cell_type": "code",
   "execution_count": 10,
   "metadata": {},
   "outputs": [
    {
     "name": "stdout",
     "output_type": "stream",
     "text": [
      "[9 9 9 9 9 9 9 9 9 9 9 9 9 9 9 9]\n",
      "[9 9 9 9 9 9 9 9 9 2 2 3 9 9 9 9]\n",
      "[9 9 9 9 9 9 2 1 1 1 0 1 9 9 9 9]\n",
      "[1 1 1 1 9 2 1 0 0 0 0 1 1 1 2 9]\n",
      "[0 0 0 1 1 1 0 0 0 0 0 0 0 0 1 1]\n",
      "[0 0 0 0 0 0 0 0 0 0 0 0 0 0 0 0]\n",
      "[0 0 0 0 0 0 1 1 1 1 1 1 0 0 0 0]\n",
      "[0 1 2 2 1 0 1 9 9 9 9 1 1 2 2 1]\n",
      "[0 1 9 9 2 1 2 9 9 9 9 9 9 9 9 9]\n",
      "[0 1 2 2 2 9 9 9 9 9 9 9 9 9 9 9]\n",
      "[0 0 0 0 1 1 1 1 9 9 9 9 9 9 9 9]\n",
      "[1 1 1 0 0 0 0 1 9 9 9 9 9 9 9 9]\n",
      "[9 9 2 1 1 1 1 2 9 9 9 9 9 9 9 9]\n",
      "[9 9 9 9 9 9 9 9 9 9 9 9 9 9 9 9]\n",
      "[9 9 9 9 9 9 9 9 9 9 9 9 9 9 9 9]\n",
      "[9 9 9 9 9 9 9 9 9 9 9 9 9 9 9 9]\n"
     ]
    }
   ],
   "source": [
    "for i in game.game_state:\n",
    "    print(i)"
   ]
  },
  {
   "cell_type": "code",
   "execution_count": 11,
   "metadata": {},
   "outputs": [
    {
     "data": {
      "text/plain": [
       "0"
      ]
     },
     "execution_count": 11,
     "metadata": {},
     "output_type": "execute_result"
    }
   ],
   "source": [
    "result"
   ]
  },
  {
   "cell_type": "code",
   "execution_count": null,
   "metadata": {},
   "outputs": [],
   "source": []
  }
 ],
 "metadata": {
  "kernelspec": {
   "display_name": "venv",
   "language": "python",
   "name": "python3"
  },
  "language_info": {
   "codemirror_mode": {
    "name": "ipython",
    "version": 3
   },
   "file_extension": ".py",
   "mimetype": "text/x-python",
   "name": "python",
   "nbconvert_exporter": "python",
   "pygments_lexer": "ipython3",
   "version": "3.11.1"
  },
  "orig_nbformat": 4,
  "vscode": {
   "interpreter": {
    "hash": "f4307df1a465978e5008339dd3dc805489816c7367c3ebf57fe9e10e42cac8da"
   }
  }
 },
 "nbformat": 4,
 "nbformat_minor": 2
}
